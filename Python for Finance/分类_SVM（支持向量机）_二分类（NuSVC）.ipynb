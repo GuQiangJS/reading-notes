{
  "nbformat": 4,
  "nbformat_minor": 0,
  "metadata": {
    "colab": {
      "name": "分类-SVM（支持向量机）-二分类（NuSVC）.ipynb",
      "provenance": [],
      "collapsed_sections": [],
      "include_colab_link": true
    },
    "kernelspec": {
      "name": "python3",
      "display_name": "Python 3"
    }
  },
  "cells": [
    {
      "cell_type": "markdown",
      "metadata": {
        "id": "view-in-github",
        "colab_type": "text"
      },
      "source": [
        "<a href=\"https://colab.research.google.com/github/GuQiangJS/reading-notes/blob/master/Python%20for%20Finance/%E5%88%86%E7%B1%BB_SVM%EF%BC%88%E6%94%AF%E6%8C%81%E5%90%91%E9%87%8F%E6%9C%BA%EF%BC%89_%E4%BA%8C%E5%88%86%E7%B1%BB%EF%BC%88NuSVC%EF%BC%89.ipynb\" target=\"_parent\"><img src=\"https://colab.research.google.com/assets/colab-badge.svg\" alt=\"Open In Colab\"/></a>"
      ]
    },
    {
      "cell_type": "markdown",
      "metadata": {
        "id": "n1QmgjCj67Mu",
        "colab_type": "text"
      },
      "source": [
        "采用 `sklearn.svm.NuSVC` 支持向量机进行二元分类测试。\n",
        "\n",
        "~~本次测试的准确率只有 `%`。~~ 没有划分训练集和测试集。\n",
        "\n",
        "由于 `NuSVC` 中 `nu` 参数的设置问题，未能完成。"
      ]
    },
    {
      "cell_type": "code",
      "metadata": {
        "id": "02uLCO4IpPwL",
        "colab_type": "code",
        "colab": {}
      },
      "source": [
        "import pandas as pd\n",
        "import numpy as np\n",
        "import seaborn as sns\n",
        "import matplotlib.pyplot as plt\n",
        "from sklearn.svm import NuSVC\n",
        "\n",
        "sns.set(style=\"ticks\")"
      ],
      "execution_count": 0,
      "outputs": []
    },
    {
      "cell_type": "code",
      "metadata": {
        "id": "KqpzbNnOpWWm",
        "colab_type": "code",
        "outputId": "7a10c19a-0fa5-443a-d946-5a98517acec5",
        "colab": {
          "base_uri": "https://localhost:8080/",
          "height": 235
        }
      },
      "source": [
        "df=pd.read_csv('https://raw.githubusercontent.com/GuQiangJS/temp/master/600036.csv',index_col=0,parse_dates=True)\n",
        "df.head()"
      ],
      "execution_count": 2,
      "outputs": [
        {
          "output_type": "execute_result",
          "data": {
            "text/html": [
              "<div>\n",
              "<style scoped>\n",
              "    .dataframe tbody tr th:only-of-type {\n",
              "        vertical-align: middle;\n",
              "    }\n",
              "\n",
              "    .dataframe tbody tr th {\n",
              "        vertical-align: top;\n",
              "    }\n",
              "\n",
              "    .dataframe thead th {\n",
              "        text-align: right;\n",
              "    }\n",
              "</style>\n",
              "<table border=\"1\" class=\"dataframe\">\n",
              "  <thead>\n",
              "    <tr style=\"text-align: right;\">\n",
              "      <th></th>\n",
              "      <th>code</th>\n",
              "      <th>open</th>\n",
              "      <th>high</th>\n",
              "      <th>low</th>\n",
              "      <th>close</th>\n",
              "      <th>volume</th>\n",
              "      <th>amount</th>\n",
              "      <th>preclose</th>\n",
              "      <th>adj</th>\n",
              "    </tr>\n",
              "    <tr>\n",
              "      <th>date</th>\n",
              "      <th></th>\n",
              "      <th></th>\n",
              "      <th></th>\n",
              "      <th></th>\n",
              "      <th></th>\n",
              "      <th></th>\n",
              "      <th></th>\n",
              "      <th></th>\n",
              "      <th></th>\n",
              "    </tr>\n",
              "  </thead>\n",
              "  <tbody>\n",
              "    <tr>\n",
              "      <th>2002-04-09</th>\n",
              "      <td>600036</td>\n",
              "      <td>2.198710</td>\n",
              "      <td>2.276115</td>\n",
              "      <td>2.198710</td>\n",
              "      <td>2.230091</td>\n",
              "      <td>1.979471e+07</td>\n",
              "      <td>4.418822e+09</td>\n",
              "      <td>NaN</td>\n",
              "      <td>0.209202</td>\n",
              "    </tr>\n",
              "    <tr>\n",
              "      <th>2002-04-10</th>\n",
              "      <td>600036</td>\n",
              "      <td>2.230091</td>\n",
              "      <td>2.238459</td>\n",
              "      <td>2.173606</td>\n",
              "      <td>2.217539</td>\n",
              "      <td>3.247841e+06</td>\n",
              "      <td>7.166843e+08</td>\n",
              "      <td>2.230091</td>\n",
              "      <td>0.209202</td>\n",
              "    </tr>\n",
              "    <tr>\n",
              "      <th>2002-04-11</th>\n",
              "      <td>600036</td>\n",
              "      <td>2.217539</td>\n",
              "      <td>2.234275</td>\n",
              "      <td>2.194526</td>\n",
              "      <td>2.200802</td>\n",
              "      <td>1.089293e+06</td>\n",
              "      <td>2.409635e+08</td>\n",
              "      <td>2.217539</td>\n",
              "      <td>0.209202</td>\n",
              "    </tr>\n",
              "    <tr>\n",
              "      <th>2002-04-12</th>\n",
              "      <td>600036</td>\n",
              "      <td>2.196618</td>\n",
              "      <td>2.225907</td>\n",
              "      <td>2.192434</td>\n",
              "      <td>2.211263</td>\n",
              "      <td>1.016072e+06</td>\n",
              "      <td>2.240599e+08</td>\n",
              "      <td>2.200802</td>\n",
              "      <td>0.209202</td>\n",
              "    </tr>\n",
              "    <tr>\n",
              "      <th>2002-04-15</th>\n",
              "      <td>600036</td>\n",
              "      <td>2.211263</td>\n",
              "      <td>2.217539</td>\n",
              "      <td>2.165238</td>\n",
              "      <td>2.173606</td>\n",
              "      <td>8.858004e+05</td>\n",
              "      <td>1.933069e+08</td>\n",
              "      <td>2.211263</td>\n",
              "      <td>0.209202</td>\n",
              "    </tr>\n",
              "  </tbody>\n",
              "</table>\n",
              "</div>"
            ],
            "text/plain": [
              "              code      open      high  ...        amount  preclose       adj\n",
              "date                                    ...                                  \n",
              "2002-04-09  600036  2.198710  2.276115  ...  4.418822e+09       NaN  0.209202\n",
              "2002-04-10  600036  2.230091  2.238459  ...  7.166843e+08  2.230091  0.209202\n",
              "2002-04-11  600036  2.217539  2.234275  ...  2.409635e+08  2.217539  0.209202\n",
              "2002-04-12  600036  2.196618  2.225907  ...  2.240599e+08  2.200802  0.209202\n",
              "2002-04-15  600036  2.211263  2.217539  ...  1.933069e+08  2.211263  0.209202\n",
              "\n",
              "[5 rows x 9 columns]"
            ]
          },
          "metadata": {
            "tags": []
          },
          "execution_count": 2
        }
      ]
    },
    {
      "cell_type": "code",
      "metadata": {
        "id": "X963bIZSxl5J",
        "colab_type": "code",
        "colab": {}
      },
      "source": [
        "# np.log(30.282827/30.082837)#0.006626，\n",
        "# np.log(30.015684/30.282827)#-0.008861"
      ],
      "execution_count": 0,
      "outputs": []
    },
    {
      "cell_type": "code",
      "metadata": {
        "id": "cJ5Z4jnsp3IM",
        "colab_type": "code",
        "colab": {}
      },
      "source": [
        "# def daily_return(data,column='close',day=1,log=True):\n",
        "#     result=data[column]/data[column].shift(day)\n",
        "#     return np.log(result) if log else result\n",
        "\n",
        "# daily_return(df).head()\n",
        "\n",
        "# df['close'].shift(1)/df['close'].shift(2)"
      ],
      "execution_count": 0,
      "outputs": []
    },
    {
      "cell_type": "markdown",
      "metadata": {
        "id": "3xVw3ckJ0VTi",
        "colab_type": "text"
      },
      "source": [
        "1. 采用原始数据中的 `close` 和 `preclose`。\n",
        "2. 使用 `close - preclose` 计算当日日回报。\n",
        "3. 取前一日的 `close` （*`df['close'].shift(1)`*）与前 `i` 日的 `close` （*`df['close'].shift(i)`*) 计算特征值。总共计算 向前倒退 `DAYS`-1 日。并对结果取对数 `np.log`，对对数结果取 `np.sign`，将值限定在 `[-1,1]`。\n",
        "    > The sign function returns -1 if x < 0, 0 if x==0, 1 if x > 0. nan is returned for nan inputs.\n",
        "4. 丢弃掉计算结果中有 `nan` 的值。\n",
        "5. 同样对当日回报取 `np.sign`。（后面用来与训练结果比较）"
      ]
    },
    {
      "cell_type": "code",
      "metadata": {
        "id": "O5f_3Ousq051",
        "colab_type": "code",
        "outputId": "9f6455ea-b226-4d5a-85f3-8bc4c97d4596",
        "colab": {
          "base_uri": "https://localhost:8080/",
          "height": 606
        }
      },
      "source": [
        "df_new=df[['close','preclose']]\n",
        "df_new['Returns']=df_new['close']-df_new['preclose']\n",
        "DAYS=10\n",
        "COLUMNS=[]\n",
        "for i in range(2,DAYS):\n",
        "    # 取前一天开始往前推 DAYS 天数的收益率结果。\n",
        "    # 对收益率取对数后，使用 np.sign 进行正则化\n",
        "    df_new['tag_{}'.format(i)]=np.sign(np.log(df['close'].shift(1)/df['close'].shift(i)))\n",
        "    COLUMNS.append('tag_{}'.format(i))\n",
        "\n",
        "df_new.dropna(inplace=True)\n",
        "df_new['Real']=np.sign(df_new['Returns'])\n",
        "df_new.head(10)"
      ],
      "execution_count": 5,
      "outputs": [
        {
          "output_type": "stream",
          "text": [
            "/usr/local/lib/python3.6/dist-packages/ipykernel_launcher.py:2: SettingWithCopyWarning: \n",
            "A value is trying to be set on a copy of a slice from a DataFrame.\n",
            "Try using .loc[row_indexer,col_indexer] = value instead\n",
            "\n",
            "See the caveats in the documentation: http://pandas.pydata.org/pandas-docs/stable/user_guide/indexing.html#returning-a-view-versus-a-copy\n",
            "  \n",
            "/usr/local/lib/python3.6/dist-packages/ipykernel_launcher.py:8: SettingWithCopyWarning: \n",
            "A value is trying to be set on a copy of a slice from a DataFrame.\n",
            "Try using .loc[row_indexer,col_indexer] = value instead\n",
            "\n",
            "See the caveats in the documentation: http://pandas.pydata.org/pandas-docs/stable/user_guide/indexing.html#returning-a-view-versus-a-copy\n",
            "  \n"
          ],
          "name": "stderr"
        },
        {
          "output_type": "execute_result",
          "data": {
            "text/html": [
              "<div>\n",
              "<style scoped>\n",
              "    .dataframe tbody tr th:only-of-type {\n",
              "        vertical-align: middle;\n",
              "    }\n",
              "\n",
              "    .dataframe tbody tr th {\n",
              "        vertical-align: top;\n",
              "    }\n",
              "\n",
              "    .dataframe thead th {\n",
              "        text-align: right;\n",
              "    }\n",
              "</style>\n",
              "<table border=\"1\" class=\"dataframe\">\n",
              "  <thead>\n",
              "    <tr style=\"text-align: right;\">\n",
              "      <th></th>\n",
              "      <th>close</th>\n",
              "      <th>preclose</th>\n",
              "      <th>Returns</th>\n",
              "      <th>tag_2</th>\n",
              "      <th>tag_3</th>\n",
              "      <th>tag_4</th>\n",
              "      <th>tag_5</th>\n",
              "      <th>tag_6</th>\n",
              "      <th>tag_7</th>\n",
              "      <th>tag_8</th>\n",
              "      <th>tag_9</th>\n",
              "      <th>Real</th>\n",
              "    </tr>\n",
              "    <tr>\n",
              "      <th>date</th>\n",
              "      <th></th>\n",
              "      <th></th>\n",
              "      <th></th>\n",
              "      <th></th>\n",
              "      <th></th>\n",
              "      <th></th>\n",
              "      <th></th>\n",
              "      <th></th>\n",
              "      <th></th>\n",
              "      <th></th>\n",
              "      <th></th>\n",
              "      <th></th>\n",
              "    </tr>\n",
              "  </thead>\n",
              "  <tbody>\n",
              "    <tr>\n",
              "      <th>2002-04-22</th>\n",
              "      <td>2.094110</td>\n",
              "      <td>2.121306</td>\n",
              "      <td>-0.027196</td>\n",
              "      <td>1.0</td>\n",
              "      <td>-1.0</td>\n",
              "      <td>-1.0</td>\n",
              "      <td>-1.0</td>\n",
              "      <td>-1.0</td>\n",
              "      <td>-1.0</td>\n",
              "      <td>-1.0</td>\n",
              "      <td>-1.0</td>\n",
              "      <td>-1.0</td>\n",
              "    </tr>\n",
              "    <tr>\n",
              "      <th>2002-04-23</th>\n",
              "      <td>2.092018</td>\n",
              "      <td>2.094110</td>\n",
              "      <td>-0.002092</td>\n",
              "      <td>-1.0</td>\n",
              "      <td>-1.0</td>\n",
              "      <td>-1.0</td>\n",
              "      <td>-1.0</td>\n",
              "      <td>-1.0</td>\n",
              "      <td>-1.0</td>\n",
              "      <td>-1.0</td>\n",
              "      <td>-1.0</td>\n",
              "      <td>-1.0</td>\n",
              "    </tr>\n",
              "    <tr>\n",
              "      <th>2002-04-24</th>\n",
              "      <td>2.043901</td>\n",
              "      <td>2.092018</td>\n",
              "      <td>-0.048116</td>\n",
              "      <td>-1.0</td>\n",
              "      <td>-1.0</td>\n",
              "      <td>-1.0</td>\n",
              "      <td>-1.0</td>\n",
              "      <td>-1.0</td>\n",
              "      <td>-1.0</td>\n",
              "      <td>-1.0</td>\n",
              "      <td>-1.0</td>\n",
              "      <td>-1.0</td>\n",
              "    </tr>\n",
              "    <tr>\n",
              "      <th>2002-04-25</th>\n",
              "      <td>2.052269</td>\n",
              "      <td>2.043901</td>\n",
              "      <td>0.008368</td>\n",
              "      <td>-1.0</td>\n",
              "      <td>-1.0</td>\n",
              "      <td>-1.0</td>\n",
              "      <td>-1.0</td>\n",
              "      <td>-1.0</td>\n",
              "      <td>-1.0</td>\n",
              "      <td>-1.0</td>\n",
              "      <td>-1.0</td>\n",
              "      <td>1.0</td>\n",
              "    </tr>\n",
              "    <tr>\n",
              "      <th>2002-04-26</th>\n",
              "      <td>2.058545</td>\n",
              "      <td>2.052269</td>\n",
              "      <td>0.006276</td>\n",
              "      <td>1.0</td>\n",
              "      <td>-1.0</td>\n",
              "      <td>-1.0</td>\n",
              "      <td>-1.0</td>\n",
              "      <td>-1.0</td>\n",
              "      <td>-1.0</td>\n",
              "      <td>-1.0</td>\n",
              "      <td>-1.0</td>\n",
              "      <td>1.0</td>\n",
              "    </tr>\n",
              "    <tr>\n",
              "      <th>2002-04-29</th>\n",
              "      <td>2.060637</td>\n",
              "      <td>2.058545</td>\n",
              "      <td>0.002092</td>\n",
              "      <td>1.0</td>\n",
              "      <td>1.0</td>\n",
              "      <td>-1.0</td>\n",
              "      <td>-1.0</td>\n",
              "      <td>-1.0</td>\n",
              "      <td>-1.0</td>\n",
              "      <td>-1.0</td>\n",
              "      <td>-1.0</td>\n",
              "      <td>1.0</td>\n",
              "    </tr>\n",
              "    <tr>\n",
              "      <th>2002-04-30</th>\n",
              "      <td>2.096202</td>\n",
              "      <td>2.060637</td>\n",
              "      <td>0.035564</td>\n",
              "      <td>1.0</td>\n",
              "      <td>1.0</td>\n",
              "      <td>1.0</td>\n",
              "      <td>-1.0</td>\n",
              "      <td>-1.0</td>\n",
              "      <td>-1.0</td>\n",
              "      <td>-1.0</td>\n",
              "      <td>-1.0</td>\n",
              "      <td>1.0</td>\n",
              "    </tr>\n",
              "    <tr>\n",
              "      <th>2002-05-08</th>\n",
              "      <td>2.071097</td>\n",
              "      <td>2.096202</td>\n",
              "      <td>-0.025104</td>\n",
              "      <td>1.0</td>\n",
              "      <td>1.0</td>\n",
              "      <td>1.0</td>\n",
              "      <td>1.0</td>\n",
              "      <td>1.0</td>\n",
              "      <td>1.0</td>\n",
              "      <td>-1.0</td>\n",
              "      <td>-1.0</td>\n",
              "      <td>-1.0</td>\n",
              "    </tr>\n",
              "    <tr>\n",
              "      <th>2002-05-09</th>\n",
              "      <td>2.079465</td>\n",
              "      <td>2.071097</td>\n",
              "      <td>0.008368</td>\n",
              "      <td>-1.0</td>\n",
              "      <td>1.0</td>\n",
              "      <td>1.0</td>\n",
              "      <td>1.0</td>\n",
              "      <td>1.0</td>\n",
              "      <td>-1.0</td>\n",
              "      <td>-1.0</td>\n",
              "      <td>-1.0</td>\n",
              "      <td>1.0</td>\n",
              "    </tr>\n",
              "    <tr>\n",
              "      <th>2002-05-10</th>\n",
              "      <td>2.052269</td>\n",
              "      <td>2.079465</td>\n",
              "      <td>-0.027196</td>\n",
              "      <td>1.0</td>\n",
              "      <td>-1.0</td>\n",
              "      <td>1.0</td>\n",
              "      <td>1.0</td>\n",
              "      <td>1.0</td>\n",
              "      <td>1.0</td>\n",
              "      <td>-1.0</td>\n",
              "      <td>-1.0</td>\n",
              "      <td>-1.0</td>\n",
              "    </tr>\n",
              "  </tbody>\n",
              "</table>\n",
              "</div>"
            ],
            "text/plain": [
              "               close  preclose   Returns  tag_2  ...  tag_7  tag_8  tag_9  Real\n",
              "date                                             ...                           \n",
              "2002-04-22  2.094110  2.121306 -0.027196    1.0  ...   -1.0   -1.0   -1.0  -1.0\n",
              "2002-04-23  2.092018  2.094110 -0.002092   -1.0  ...   -1.0   -1.0   -1.0  -1.0\n",
              "2002-04-24  2.043901  2.092018 -0.048116   -1.0  ...   -1.0   -1.0   -1.0  -1.0\n",
              "2002-04-25  2.052269  2.043901  0.008368   -1.0  ...   -1.0   -1.0   -1.0   1.0\n",
              "2002-04-26  2.058545  2.052269  0.006276    1.0  ...   -1.0   -1.0   -1.0   1.0\n",
              "2002-04-29  2.060637  2.058545  0.002092    1.0  ...   -1.0   -1.0   -1.0   1.0\n",
              "2002-04-30  2.096202  2.060637  0.035564    1.0  ...   -1.0   -1.0   -1.0   1.0\n",
              "2002-05-08  2.071097  2.096202 -0.025104    1.0  ...    1.0   -1.0   -1.0  -1.0\n",
              "2002-05-09  2.079465  2.071097  0.008368   -1.0  ...   -1.0   -1.0   -1.0   1.0\n",
              "2002-05-10  2.052269  2.079465 -0.027196    1.0  ...    1.0   -1.0   -1.0  -1.0\n",
              "\n",
              "[10 rows x 12 columns]"
            ]
          },
          "metadata": {
            "tags": []
          },
          "execution_count": 5
        }
      ]
    },
    {
      "cell_type": "markdown",
      "metadata": {
        "id": "Wi-51O7k1uAu",
        "colab_type": "text"
      },
      "source": [
        "采用 `sklearn.svm.NuSVC` 默认方法进行计算。\n",
        "\n",
        "`x`：上一步计算出的特征值。\n",
        "\n",
        "`y`：对当日日回报进行 `np.sign`，将值限定在 [-1,1]。**二分类**\n",
        "\n",
        "> 因为 `NuSVC` 参数 `nu` 的设置问题，使用如下代码一个个尝试 `nu` 参数的合适的值。"
      ]
    },
    {
      "cell_type": "code",
      "metadata": {
        "id": "ltaQ61eDrr-P",
        "colab_type": "code",
        "outputId": "e52fb01f-2434-4ec3-8de2-7fd5c735f950",
        "colab": {
          "base_uri": "https://localhost:8080/",
          "height": 89
        }
      },
      "source": [
        "for i in [_/10 for _ in range(1,11,1)]:\n",
        "    model=NuSVC(nu=i,gamma='scale')\n",
        "    try:\n",
        "        model.fit(df_new[COLUMNS],np.sign(df_new['Returns']))\n",
        "    except ValueError:\n",
        "        continue\n",
        "print(model)"
      ],
      "execution_count": 25,
      "outputs": [
        {
          "output_type": "stream",
          "text": [
            "NuSVC(cache_size=200, class_weight=None, coef0=0.0,\n",
            "      decision_function_shape='ovr', degree=3, gamma='scale', kernel='rbf',\n",
            "      max_iter=-1, nu=1.0, probability=False, random_state=None, shrinking=True,\n",
            "      tol=0.001, verbose=False)\n"
          ],
          "name": "stdout"
        }
      ]
    },
    {
      "cell_type": "markdown",
      "metadata": {
        "id": "Ar3Kbfs52fg9",
        "colab_type": "text"
      },
      "source": [
        "对所有样本进行分类。"
      ]
    },
    {
      "cell_type": "code",
      "metadata": {
        "id": "10dWXd1HvB8V",
        "colab_type": "code",
        "outputId": "70c72cca-fa67-4b88-d5e0-c04cb5058d5e",
        "colab": {
          "base_uri": "https://localhost:8080/",
          "height": 341
        }
      },
      "source": [
        "df_new['Predict']=model.predict(df_new[COLUMNS])\n",
        "df_new.head(10)"
      ],
      "execution_count": 26,
      "outputs": [
        {
          "output_type": "error",
          "ename": "NotFittedError",
          "evalue": "ignored",
          "traceback": [
            "\u001b[0;31m---------------------------------------------------------------------------\u001b[0m",
            "\u001b[0;31mNotFittedError\u001b[0m                            Traceback (most recent call last)",
            "\u001b[0;32m<ipython-input-26-0aff07264570>\u001b[0m in \u001b[0;36m<module>\u001b[0;34m()\u001b[0m\n\u001b[0;32m----> 1\u001b[0;31m \u001b[0mdf_new\u001b[0m\u001b[0;34m[\u001b[0m\u001b[0;34m'Predict'\u001b[0m\u001b[0;34m]\u001b[0m\u001b[0;34m=\u001b[0m\u001b[0mmodel\u001b[0m\u001b[0;34m.\u001b[0m\u001b[0mpredict\u001b[0m\u001b[0;34m(\u001b[0m\u001b[0mdf_new\u001b[0m\u001b[0;34m[\u001b[0m\u001b[0mCOLUMNS\u001b[0m\u001b[0;34m]\u001b[0m\u001b[0;34m)\u001b[0m\u001b[0;34m\u001b[0m\u001b[0;34m\u001b[0m\u001b[0m\n\u001b[0m\u001b[1;32m      2\u001b[0m \u001b[0mdf_new\u001b[0m\u001b[0;34m.\u001b[0m\u001b[0mhead\u001b[0m\u001b[0;34m(\u001b[0m\u001b[0;36m10\u001b[0m\u001b[0;34m)\u001b[0m\u001b[0;34m\u001b[0m\u001b[0;34m\u001b[0m\u001b[0m\n",
            "\u001b[0;32m/usr/local/lib/python3.6/dist-packages/sklearn/svm/base.py\u001b[0m in \u001b[0;36mpredict\u001b[0;34m(self, X)\u001b[0m\n\u001b[1;32m    572\u001b[0m             \u001b[0mClass\u001b[0m \u001b[0mlabels\u001b[0m \u001b[0;32mfor\u001b[0m \u001b[0msamples\u001b[0m \u001b[0;32min\u001b[0m \u001b[0mX\u001b[0m\u001b[0;34m.\u001b[0m\u001b[0;34m\u001b[0m\u001b[0;34m\u001b[0m\u001b[0m\n\u001b[1;32m    573\u001b[0m         \"\"\"\n\u001b[0;32m--> 574\u001b[0;31m         \u001b[0my\u001b[0m \u001b[0;34m=\u001b[0m \u001b[0msuper\u001b[0m\u001b[0;34m(\u001b[0m\u001b[0;34m)\u001b[0m\u001b[0;34m.\u001b[0m\u001b[0mpredict\u001b[0m\u001b[0;34m(\u001b[0m\u001b[0mX\u001b[0m\u001b[0;34m)\u001b[0m\u001b[0;34m\u001b[0m\u001b[0;34m\u001b[0m\u001b[0m\n\u001b[0m\u001b[1;32m    575\u001b[0m         \u001b[0;32mreturn\u001b[0m \u001b[0mself\u001b[0m\u001b[0;34m.\u001b[0m\u001b[0mclasses_\u001b[0m\u001b[0;34m.\u001b[0m\u001b[0mtake\u001b[0m\u001b[0;34m(\u001b[0m\u001b[0mnp\u001b[0m\u001b[0;34m.\u001b[0m\u001b[0masarray\u001b[0m\u001b[0;34m(\u001b[0m\u001b[0my\u001b[0m\u001b[0;34m,\u001b[0m \u001b[0mdtype\u001b[0m\u001b[0;34m=\u001b[0m\u001b[0mnp\u001b[0m\u001b[0;34m.\u001b[0m\u001b[0mintp\u001b[0m\u001b[0;34m)\u001b[0m\u001b[0;34m)\u001b[0m\u001b[0;34m\u001b[0m\u001b[0;34m\u001b[0m\u001b[0m\n\u001b[1;32m    576\u001b[0m \u001b[0;34m\u001b[0m\u001b[0m\n",
            "\u001b[0;32m/usr/local/lib/python3.6/dist-packages/sklearn/svm/base.py\u001b[0m in \u001b[0;36mpredict\u001b[0;34m(self, X)\u001b[0m\n\u001b[1;32m    320\u001b[0m         \u001b[0my_pred\u001b[0m \u001b[0;34m:\u001b[0m \u001b[0marray\u001b[0m\u001b[0;34m,\u001b[0m \u001b[0mshape\u001b[0m \u001b[0;34m(\u001b[0m\u001b[0mn_samples\u001b[0m\u001b[0;34m,\u001b[0m\u001b[0;34m)\u001b[0m\u001b[0;34m\u001b[0m\u001b[0;34m\u001b[0m\u001b[0m\n\u001b[1;32m    321\u001b[0m         \"\"\"\n\u001b[0;32m--> 322\u001b[0;31m         \u001b[0mX\u001b[0m \u001b[0;34m=\u001b[0m \u001b[0mself\u001b[0m\u001b[0;34m.\u001b[0m\u001b[0m_validate_for_predict\u001b[0m\u001b[0;34m(\u001b[0m\u001b[0mX\u001b[0m\u001b[0;34m)\u001b[0m\u001b[0;34m\u001b[0m\u001b[0;34m\u001b[0m\u001b[0m\n\u001b[0m\u001b[1;32m    323\u001b[0m         \u001b[0mpredict\u001b[0m \u001b[0;34m=\u001b[0m \u001b[0mself\u001b[0m\u001b[0;34m.\u001b[0m\u001b[0m_sparse_predict\u001b[0m \u001b[0;32mif\u001b[0m \u001b[0mself\u001b[0m\u001b[0;34m.\u001b[0m\u001b[0m_sparse\u001b[0m \u001b[0;32melse\u001b[0m \u001b[0mself\u001b[0m\u001b[0;34m.\u001b[0m\u001b[0m_dense_predict\u001b[0m\u001b[0;34m\u001b[0m\u001b[0;34m\u001b[0m\u001b[0m\n\u001b[1;32m    324\u001b[0m         \u001b[0;32mreturn\u001b[0m \u001b[0mpredict\u001b[0m\u001b[0;34m(\u001b[0m\u001b[0mX\u001b[0m\u001b[0;34m)\u001b[0m\u001b[0;34m\u001b[0m\u001b[0;34m\u001b[0m\u001b[0m\n",
            "\u001b[0;32m/usr/local/lib/python3.6/dist-packages/sklearn/svm/base.py\u001b[0m in \u001b[0;36m_validate_for_predict\u001b[0;34m(self, X)\u001b[0m\n\u001b[1;32m    449\u001b[0m \u001b[0;34m\u001b[0m\u001b[0m\n\u001b[1;32m    450\u001b[0m     \u001b[0;32mdef\u001b[0m \u001b[0m_validate_for_predict\u001b[0m\u001b[0;34m(\u001b[0m\u001b[0mself\u001b[0m\u001b[0;34m,\u001b[0m \u001b[0mX\u001b[0m\u001b[0;34m)\u001b[0m\u001b[0;34m:\u001b[0m\u001b[0;34m\u001b[0m\u001b[0;34m\u001b[0m\u001b[0m\n\u001b[0;32m--> 451\u001b[0;31m         \u001b[0mcheck_is_fitted\u001b[0m\u001b[0;34m(\u001b[0m\u001b[0mself\u001b[0m\u001b[0;34m,\u001b[0m \u001b[0;34m'support_'\u001b[0m\u001b[0;34m)\u001b[0m\u001b[0;34m\u001b[0m\u001b[0;34m\u001b[0m\u001b[0m\n\u001b[0m\u001b[1;32m    452\u001b[0m \u001b[0;34m\u001b[0m\u001b[0m\n\u001b[1;32m    453\u001b[0m         X = check_array(X, accept_sparse='csr', dtype=np.float64, order=\"C\",\n",
            "\u001b[0;32m/usr/local/lib/python3.6/dist-packages/sklearn/utils/validation.py\u001b[0m in \u001b[0;36mcheck_is_fitted\u001b[0;34m(estimator, attributes, msg, all_or_any)\u001b[0m\n\u001b[1;32m    912\u001b[0m \u001b[0;34m\u001b[0m\u001b[0m\n\u001b[1;32m    913\u001b[0m     \u001b[0;32mif\u001b[0m \u001b[0;32mnot\u001b[0m \u001b[0mall_or_any\u001b[0m\u001b[0;34m(\u001b[0m\u001b[0;34m[\u001b[0m\u001b[0mhasattr\u001b[0m\u001b[0;34m(\u001b[0m\u001b[0mestimator\u001b[0m\u001b[0;34m,\u001b[0m \u001b[0mattr\u001b[0m\u001b[0;34m)\u001b[0m \u001b[0;32mfor\u001b[0m \u001b[0mattr\u001b[0m \u001b[0;32min\u001b[0m \u001b[0mattributes\u001b[0m\u001b[0;34m]\u001b[0m\u001b[0;34m)\u001b[0m\u001b[0;34m:\u001b[0m\u001b[0;34m\u001b[0m\u001b[0;34m\u001b[0m\u001b[0m\n\u001b[0;32m--> 914\u001b[0;31m         \u001b[0;32mraise\u001b[0m \u001b[0mNotFittedError\u001b[0m\u001b[0;34m(\u001b[0m\u001b[0mmsg\u001b[0m \u001b[0;34m%\u001b[0m \u001b[0;34m{\u001b[0m\u001b[0;34m'name'\u001b[0m\u001b[0;34m:\u001b[0m \u001b[0mtype\u001b[0m\u001b[0;34m(\u001b[0m\u001b[0mestimator\u001b[0m\u001b[0;34m)\u001b[0m\u001b[0;34m.\u001b[0m\u001b[0m__name__\u001b[0m\u001b[0;34m}\u001b[0m\u001b[0;34m)\u001b[0m\u001b[0;34m\u001b[0m\u001b[0;34m\u001b[0m\u001b[0m\n\u001b[0m\u001b[1;32m    915\u001b[0m \u001b[0;34m\u001b[0m\u001b[0m\n\u001b[1;32m    916\u001b[0m \u001b[0;34m\u001b[0m\u001b[0m\n",
            "\u001b[0;31mNotFittedError\u001b[0m: This NuSVC instance is not fitted yet. Call 'fit' with appropriate arguments before using this method."
          ]
        }
      ]
    },
    {
      "cell_type": "markdown",
      "metadata": {
        "id": "Ftvrq8WB2hki",
        "colab_type": "text"
      },
      "source": [
        "使用分类结果 `Predict` 乘以当日的正常回报 `Returns` = `Strategy`。记为按照本次策略操作后的回报率。\n",
        "\n",
        "|Predict|Returns|Strategy||\n",
        "|---|---|---|---|\n",
        "|`<0`|`<0`|`>0`|买对了|\n",
        "|`>0`|`>0`|`>0`|买对了|\n",
        "|`>0`|`<0`|`<0`|买错了|\n",
        "|`<0`|`>0`|`>0`|买错了|\n",
        "\n",
        "通过观察 `Real` 和 `Predict` 也可以看出预测是正确还是错误。"
      ]
    },
    {
      "cell_type": "code",
      "metadata": {
        "id": "y1WanEk8vNbK",
        "colab_type": "code",
        "colab": {}
      },
      "source": [
        "df_new['Strategy']=df_new['Returns']*df_new['Predict']\n",
        "df_new.head(10)"
      ],
      "execution_count": 0,
      "outputs": []
    },
    {
      "cell_type": "markdown",
      "metadata": {
        "id": "t6jiu4rR0FDF",
        "colab_type": "text"
      },
      "source": [
        "实际日回报和使用策略的日回报的累加结果比较。"
      ]
    },
    {
      "cell_type": "code",
      "metadata": {
        "id": "NeJD0E5uwNB1",
        "colab_type": "code",
        "colab": {}
      },
      "source": [
        "df_new[['Returns','Strategy']].cumsum().tail()"
      ],
      "execution_count": 0,
      "outputs": []
    },
    {
      "cell_type": "code",
      "metadata": {
        "id": "YrOzbgMc5JT-",
        "colab_type": "code",
        "colab": {}
      },
      "source": [
        "print('平均准确度:',model.score(df_new[COLUMNS],np.sign(df_new['Returns'])))"
      ],
      "execution_count": 0,
      "outputs": []
    },
    {
      "cell_type": "code",
      "metadata": {
        "id": "Njj25vHIwH-9",
        "colab_type": "code",
        "colab": {}
      },
      "source": [
        "df_new[['Returns','Strategy']].cumsum().plot(figsize=(8,5))"
      ],
      "execution_count": 0,
      "outputs": []
    },
    {
      "cell_type": "code",
      "metadata": {
        "id": "LFef_QQbweO_",
        "colab_type": "code",
        "colab": {}
      },
      "source": [
        "# def test(**kwargs):\n",
        "#     df_new=df[['close','preclose']]\n",
        "#     df_new['Returns']=df_new['close']-df_new['preclose']\n",
        "#     DAYS=10\n",
        "#     COLUMNS=[]\n",
        "#     for i in range(2,DAYS):\n",
        "#         df_new['tag_{}'.format(i)]=np.sign(np.log(df['close'].shift(1)/df['close'].shift(i)))\n",
        "#         COLUMNS.append('tag_{}'.format(i))\n",
        "\n",
        "#     df_new.dropna(inplace=True)\n",
        "#     df_new['Real']=np.sign(df_new['Returns'])\n",
        "\n",
        "#     model=NuSVC(**kwargs)\n",
        "#     model.fit(df_new[COLUMNS],np.sign(df_new['Returns']))\n",
        "\n",
        "#     df_new['Predict']=model.predict(df_new[COLUMNS])\n",
        "#     df_new['Strategy']=df_new['Returns']*df_new['Predict']\n",
        "\n",
        "#     title=kwargs.pop('title','')\n",
        "#     plot=kwargs.pop('plot',False)\n",
        "#     print(title)\n",
        "#     print('最后一笔:',df_new[['Returns','Strategy']].cumsum().tail(1))\n",
        "\n",
        "#     print('平均准确度:',model.score(df_new[COLUMNS],np.sign(df_new['Returns'])))\n",
        "#     if plot:\n",
        "#         df_new[['Returns','Strategy']].cumsum().plot(figsize=(8,5),title=title)"
      ],
      "execution_count": 0,
      "outputs": []
    }
  ]
}